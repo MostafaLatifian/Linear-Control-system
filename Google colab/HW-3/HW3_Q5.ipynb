{
  "nbformat": 4,
  "nbformat_minor": 0,
  "metadata": {
    "colab": {
      "provenance": []
    },
    "kernelspec": {
      "name": "python3",
      "display_name": "Python 3"
    },
    "language_info": {
      "name": "python"
    }
  },
  "cells": [
    {
      "cell_type": "code",
      "execution_count": 3,
      "metadata": {
        "colab": {
          "base_uri": "https://localhost:8080/"
        },
        "id": "75wc2tPNCKFa",
        "outputId": "fa2a2262-e48c-4215-cde1-351dcfeadf98"
      },
      "outputs": [
        {
          "output_type": "stream",
          "name": "stdout",
          "text": [
            "Requirement already satisfied: control in /usr/local/lib/python3.10/dist-packages (0.10.1)\n",
            "Requirement already satisfied: numpy>=1.23 in /usr/local/lib/python3.10/dist-packages (from control) (1.26.4)\n",
            "Requirement already satisfied: scipy>=1.8 in /usr/local/lib/python3.10/dist-packages (from control) (1.13.1)\n",
            "Requirement already satisfied: matplotlib>=3.6 in /usr/local/lib/python3.10/dist-packages (from control) (3.8.0)\n",
            "Requirement already satisfied: contourpy>=1.0.1 in /usr/local/lib/python3.10/dist-packages (from matplotlib>=3.6->control) (1.3.1)\n",
            "Requirement already satisfied: cycler>=0.10 in /usr/local/lib/python3.10/dist-packages (from matplotlib>=3.6->control) (0.12.1)\n",
            "Requirement already satisfied: fonttools>=4.22.0 in /usr/local/lib/python3.10/dist-packages (from matplotlib>=3.6->control) (4.55.3)\n",
            "Requirement already satisfied: kiwisolver>=1.0.1 in /usr/local/lib/python3.10/dist-packages (from matplotlib>=3.6->control) (1.4.7)\n",
            "Requirement already satisfied: packaging>=20.0 in /usr/local/lib/python3.10/dist-packages (from matplotlib>=3.6->control) (24.2)\n",
            "Requirement already satisfied: pillow>=6.2.0 in /usr/local/lib/python3.10/dist-packages (from matplotlib>=3.6->control) (11.0.0)\n",
            "Requirement already satisfied: pyparsing>=2.3.1 in /usr/local/lib/python3.10/dist-packages (from matplotlib>=3.6->control) (3.2.0)\n",
            "Requirement already satisfied: python-dateutil>=2.7 in /usr/local/lib/python3.10/dist-packages (from matplotlib>=3.6->control) (2.8.2)\n",
            "Requirement already satisfied: six>=1.5 in /usr/local/lib/python3.10/dist-packages (from python-dateutil>=2.7->matplotlib>=3.6->control) (1.17.0)\n",
            "Poles of Ts: [-6.79128785+0.j -2.20871215+0.j]\n",
            "Poles of Gs: [-2.+1.j -2.-1.j]\n",
            "Zeros of Ts: [-2.+0.j]\n",
            "Zeros of Gs: [-2.+0.j]\n"
          ]
        }
      ],
      "source": [
        "!pip install control\n",
        "import control as ctrl\n",
        "import matplotlib.pyplot as plt\n",
        "\n",
        "# Define transfer function variable\n",
        "s = ctrl.TransferFunction.s\n",
        "\n",
        "# Define transfer functions\n",
        "Gs = (5 * s + 10) / (s**2 + 4 * s + 5)\n",
        "Ts = (5 * s + 10) / (s**2 + 9 * s + 15)\n",
        "\n",
        "# Compute poles and zeros\n",
        "poles_Ts = ctrl.poles(Ts)\n",
        "poles_Gs = ctrl.poles(Gs)\n",
        "zeros_Ts = ctrl.zeros(Ts)\n",
        "zeros_Gs = ctrl.zeros(Gs)\n",
        "\n",
        "# Print results\n",
        "print(\"Poles of Ts:\", poles_Ts)\n",
        "print(\"Poles of Gs:\", poles_Gs)\n",
        "print(\"Zeros of Ts:\", zeros_Ts)\n",
        "print(\"Zeros of Gs:\", zeros_Gs)"
      ]
    }
  ]
}